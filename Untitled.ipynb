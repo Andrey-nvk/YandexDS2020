{
  "cells": [
    {
      "cell_type": "markdown",
      "metadata": {
        "id": "view-in-github",
        "colab_type": "text"
      },
      "source": [
        "<a href=\"https://colab.research.google.com/github/Andrey-nvk/YandexDS2020/blob/master/Untitled.ipynb\" target=\"_parent\"><img src=\"https://colab.research.google.com/assets/colab-badge.svg\" alt=\"Open In Colab\"/></a>"
      ]
    },
    {
      "cell_type": "code",
      "execution_count": null,
      "id": "7328dbdc-3a35-492c-add6-9c14face3065",
      "metadata": {
        "id": "7328dbdc-3a35-492c-add6-9c14face3065"
      },
      "outputs": [],
      "source": [
        "import pandas as pd\n",
        "import numpy as np\n",
        "import seaborn as sns\n",
        "from matplotlib import pyplot as plt\n",
        "import warnings\n",
        "warnings.filterwarnings('ignore')\n",
        "%matplotlib inline"
      ]
    },
    {
      "cell_type": "markdown",
      "id": "6c03c374-fa9d-470d-9c10-46600e30a0be",
      "metadata": {
        "id": "6c03c374-fa9d-470d-9c10-46600e30a0be"
      },
      "source": [
        "### Исследуем сырые данные"
      ]
    },
    {
      "cell_type": "code",
      "execution_count": null,
      "id": "cc1dfe0b-9a59-4ee5-907e-fdac994bc3fe",
      "metadata": {
        "id": "cc1dfe0b-9a59-4ee5-907e-fdac994bc3fe"
      },
      "outputs": [],
      "source": [
        "df = pd.read_csv('shmya_final_version.csv') "
      ]
    },
    {
      "cell_type": "code",
      "execution_count": null,
      "id": "1ab7acf2-c397-4eca-9f56-4753577877c5",
      "metadata": {
        "id": "1ab7acf2-c397-4eca-9f56-4753577877c5",
        "outputId": "650ae2c3-5f06-4583-a40f-8b7771e327b2"
      },
      "outputs": [
        {
          "data": {
            "text/html": [
              "<div>\n",
              "<style scoped>\n",
              "    .dataframe tbody tr th:only-of-type {\n",
              "        vertical-align: middle;\n",
              "    }\n",
              "\n",
              "    .dataframe tbody tr th {\n",
              "        vertical-align: top;\n",
              "    }\n",
              "\n",
              "    .dataframe thead th {\n",
              "        text-align: right;\n",
              "    }\n",
              "</style>\n",
              "<table border=\"1\" class=\"dataframe\">\n",
              "  <thead>\n",
              "    <tr style=\"text-align: right;\">\n",
              "      <th></th>\n",
              "      <th>date</th>\n",
              "      <th>cutlery</th>\n",
              "      <th>tips</th>\n",
              "      <th>order_price</th>\n",
              "      <th>uid</th>\n",
              "      <th>order_id</th>\n",
              "    </tr>\n",
              "  </thead>\n",
              "  <tbody>\n",
              "    <tr>\n",
              "      <th>0</th>\n",
              "      <td>2022-01-17 06:38:43</td>\n",
              "      <td>3</td>\n",
              "      <td>100</td>\n",
              "      <td>1001</td>\n",
              "      <td>120967</td>\n",
              "      <td>73041443</td>\n",
              "    </tr>\n",
              "    <tr>\n",
              "      <th>1</th>\n",
              "      <td>2022-01-23 11:09:22</td>\n",
              "      <td>4</td>\n",
              "      <td>110</td>\n",
              "      <td>309</td>\n",
              "      <td>325757</td>\n",
              "      <td>60500835</td>\n",
              "    </tr>\n",
              "    <tr>\n",
              "      <th>2</th>\n",
              "      <td>2022-01-24 19:40:03</td>\n",
              "      <td>1</td>\n",
              "      <td>10</td>\n",
              "      <td>891</td>\n",
              "      <td>986730</td>\n",
              "      <td>43230531</td>\n",
              "    </tr>\n",
              "    <tr>\n",
              "      <th>3</th>\n",
              "      <td>2022-01-14 18:01:22</td>\n",
              "      <td>5</td>\n",
              "      <td>70</td>\n",
              "      <td>749</td>\n",
              "      <td>868648</td>\n",
              "      <td>46180789</td>\n",
              "    </tr>\n",
              "    <tr>\n",
              "      <th>4</th>\n",
              "      <td>2022-01-19 22:32:43</td>\n",
              "      <td>2</td>\n",
              "      <td>10</td>\n",
              "      <td>469</td>\n",
              "      <td>863523</td>\n",
              "      <td>59266169</td>\n",
              "    </tr>\n",
              "    <tr>\n",
              "      <th>...</th>\n",
              "      <td>...</td>\n",
              "      <td>...</td>\n",
              "      <td>...</td>\n",
              "      <td>...</td>\n",
              "      <td>...</td>\n",
              "      <td>...</td>\n",
              "    </tr>\n",
              "    <tr>\n",
              "      <th>26052</th>\n",
              "      <td>2022-01-04 05:21:39</td>\n",
              "      <td>4</td>\n",
              "      <td>10</td>\n",
              "      <td>763</td>\n",
              "      <td>182587</td>\n",
              "      <td>85041983</td>\n",
              "    </tr>\n",
              "    <tr>\n",
              "      <th>26053</th>\n",
              "      <td>2022-01-18 14:43:12</td>\n",
              "      <td>3</td>\n",
              "      <td>60</td>\n",
              "      <td>790</td>\n",
              "      <td>187031</td>\n",
              "      <td>47894568</td>\n",
              "    </tr>\n",
              "    <tr>\n",
              "      <th>26054</th>\n",
              "      <td>2022-01-26 18:08:02</td>\n",
              "      <td>1</td>\n",
              "      <td>90</td>\n",
              "      <td>502</td>\n",
              "      <td>247419</td>\n",
              "      <td>75350869</td>\n",
              "    </tr>\n",
              "    <tr>\n",
              "      <th>26055</th>\n",
              "      <td>2022-01-18 05:55:09</td>\n",
              "      <td>2</td>\n",
              "      <td>80</td>\n",
              "      <td>418</td>\n",
              "      <td>474601</td>\n",
              "      <td>79438423</td>\n",
              "    </tr>\n",
              "    <tr>\n",
              "      <th>26056</th>\n",
              "      <td>2022-01-09 01:06:30</td>\n",
              "      <td>2</td>\n",
              "      <td>50</td>\n",
              "      <td>802</td>\n",
              "      <td>898956</td>\n",
              "      <td>87138202</td>\n",
              "    </tr>\n",
              "  </tbody>\n",
              "</table>\n",
              "<p>26057 rows × 6 columns</p>\n",
              "</div>"
            ],
            "text/plain": [
              "                      date  cutlery  tips  order_price     uid  order_id\n",
              "0      2022-01-17 06:38:43        3   100         1001  120967  73041443\n",
              "1      2022-01-23 11:09:22        4   110          309  325757  60500835\n",
              "2      2022-01-24 19:40:03        1    10          891  986730  43230531\n",
              "3      2022-01-14 18:01:22        5    70          749  868648  46180789\n",
              "4      2022-01-19 22:32:43        2    10          469  863523  59266169\n",
              "...                    ...      ...   ...          ...     ...       ...\n",
              "26052  2022-01-04 05:21:39        4    10          763  182587  85041983\n",
              "26053  2022-01-18 14:43:12        3    60          790  187031  47894568\n",
              "26054  2022-01-26 18:08:02        1    90          502  247419  75350869\n",
              "26055  2022-01-18 05:55:09        2    80          418  474601  79438423\n",
              "26056  2022-01-09 01:06:30        2    50          802  898956  87138202\n",
              "\n",
              "[26057 rows x 6 columns]"
            ]
          },
          "execution_count": 3,
          "metadata": {},
          "output_type": "execute_result"
        }
      ],
      "source": [
        "df"
      ]
    },
    {
      "cell_type": "code",
      "execution_count": null,
      "id": "16eafd73-8ab7-4a6c-8654-3d6834334448",
      "metadata": {
        "id": "16eafd73-8ab7-4a6c-8654-3d6834334448",
        "outputId": "a058a5ac-e2e4-4b6d-9008-26dfe5ba1c3b"
      },
      "outputs": [
        {
          "data": {
            "text/plain": [
              "Index(['date', 'cutlery', 'tips', 'order_price', 'uid', 'order_id'], dtype='object')"
            ]
          },
          "execution_count": 4,
          "metadata": {},
          "output_type": "execute_result"
        }
      ],
      "source": [
        "df.columns"
      ]
    },
    {
      "cell_type": "code",
      "execution_count": null,
      "id": "ddf10b9e-73a4-4f98-9096-9577698eb18e",
      "metadata": {
        "id": "ddf10b9e-73a4-4f98-9096-9577698eb18e"
      },
      "outputs": [],
      "source": [
        "colum = ['cutlery', 'tips', 'order_price']"
      ]
    },
    {
      "cell_type": "code",
      "execution_count": null,
      "id": "c732b10b-c667-441f-9b21-2d1dc64c32f7",
      "metadata": {
        "id": "c732b10b-c667-441f-9b21-2d1dc64c32f7"
      },
      "outputs": [],
      "source": [
        "def main_mesure(df):\n",
        "    print('Информация о формате данных:')\n",
        "    print(df.info())\n",
        "    print('')\n",
        "    print('-'*100)\n",
        "    print('')\n",
        "    print('Распределение данных')\n",
        "    print(df.describe())\n",
        "    print('')\n",
        "    print('-'*100)\n",
        "    print('')\n",
        "    print('Основные показатели')\n",
        "    for i in df[colum]:\n",
        "        print(f'Для {i}:\\n 1) Ср. значение = {df[i].mean()}\\n 2) Медианное значение = {df[i].median()}\\n 3) Минимальное значение = {df[i].min()}\\n 4) Максимальное значение = {df[i].max()}')"
      ]
    },
    {
      "cell_type": "code",
      "execution_count": null,
      "id": "b255e8a8-0bbb-4657-a0e9-d56354d5c7f3",
      "metadata": {
        "id": "b255e8a8-0bbb-4657-a0e9-d56354d5c7f3",
        "outputId": "cbf48dfd-4e74-4a97-c176-873ee0674660"
      },
      "outputs": [
        {
          "name": "stdout",
          "output_type": "stream",
          "text": [
            "Информация о формате данных:\n",
            "<class 'pandas.core.frame.DataFrame'>\n",
            "RangeIndex: 26057 entries, 0 to 26056\n",
            "Data columns (total 6 columns):\n",
            " #   Column       Non-Null Count  Dtype \n",
            "---  ------       --------------  ----- \n",
            " 0   date         26057 non-null  object\n",
            " 1   cutlery      26057 non-null  int64 \n",
            " 2   tips         26057 non-null  int64 \n",
            " 3   order_price  26057 non-null  int64 \n",
            " 4   uid          26057 non-null  int64 \n",
            " 5   order_id     26057 non-null  int64 \n",
            "dtypes: int64(5), object(1)\n",
            "memory usage: 1.2+ MB\n",
            "None\n",
            "\n",
            "----------------------------------------------------------------------------------------------------\n",
            "\n",
            "Распределение данных\n",
            "            cutlery          tips   order_price            uid      order_id\n",
            "count  26057.000000  26057.000000  26057.000000   26057.000000  2.605700e+04\n",
            "mean       3.197759     61.170127    604.250528  550463.164831  5.502894e+07\n",
            "std        1.447685     45.747142    312.649276  257023.916767  2.575420e+07\n",
            "min        1.000000      0.000000      0.000000  100192.000000  1.000406e+07\n",
            "25%        2.000000     20.000000    417.000000  326445.000000  3.285579e+07\n",
            "50%        3.000000     50.000000    619.000000  550824.000000  5.499804e+07\n",
            "75%        4.000000     90.000000    821.000000  777225.000000  7.700578e+07\n",
            "max        6.000000    170.000000   1939.000000  999966.000000  9.997691e+07\n",
            "\n",
            "----------------------------------------------------------------------------------------------------\n",
            "\n",
            "Основные показатели\n",
            "Для cutlery:\n",
            " 1) Ср. значение = 3.1977587596423227\n",
            " 2) Медианное значение = 3.0\n",
            " 3) Минимальное значение = 1\n",
            " 4) Максимальное значение = 6\n",
            "Для tips:\n",
            " 1) Ср. значение = 61.170127029205204\n",
            " 2) Медианное значение = 50.0\n",
            " 3) Минимальное значение = 0\n",
            " 4) Максимальное значение = 170\n",
            "Для order_price:\n",
            " 1) Ср. значение = 604.2505276892965\n",
            " 2) Медианное значение = 619.0\n",
            " 3) Минимальное значение = 0\n",
            " 4) Максимальное значение = 1939\n"
          ]
        }
      ],
      "source": [
        "main_mesure(df)"
      ]
    },
    {
      "cell_type": "markdown",
      "id": "3ad982cf-0489-4073-884f-59e190be9fb0",
      "metadata": {
        "id": "3ad982cf-0489-4073-884f-59e190be9fb0"
      },
      "source": [
        "Нанов и пустых значений нет\n",
        "\n",
        "В датасете 26057 строк\n",
        "\n",
        "Есть суммы заказов стоимость которых равна 0"
      ]
    },
    {
      "cell_type": "code",
      "execution_count": null,
      "id": "cafbc842-e343-46cc-92b2-620a99343329",
      "metadata": {
        "id": "cafbc842-e343-46cc-92b2-620a99343329",
        "outputId": "2da16153-348e-4f6a-bcc6-19af8ef761fb"
      },
      "outputs": [
        {
          "data": {
            "text/html": [
              "<div>\n",
              "<style scoped>\n",
              "    .dataframe tbody tr th:only-of-type {\n",
              "        vertical-align: middle;\n",
              "    }\n",
              "\n",
              "    .dataframe tbody tr th {\n",
              "        vertical-align: top;\n",
              "    }\n",
              "\n",
              "    .dataframe thead th {\n",
              "        text-align: right;\n",
              "    }\n",
              "</style>\n",
              "<table border=\"1\" class=\"dataframe\">\n",
              "  <thead>\n",
              "    <tr style=\"text-align: right;\">\n",
              "      <th></th>\n",
              "      <th>date</th>\n",
              "      <th>cutlery</th>\n",
              "      <th>tips</th>\n",
              "      <th>order_price</th>\n",
              "      <th>uid</th>\n",
              "      <th>order_id</th>\n",
              "    </tr>\n",
              "  </thead>\n",
              "  <tbody>\n",
              "    <tr>\n",
              "      <th>6</th>\n",
              "      <td>2022-01-01 08:52:23</td>\n",
              "      <td>4</td>\n",
              "      <td>0</td>\n",
              "      <td>0</td>\n",
              "      <td>779134</td>\n",
              "      <td>15841612</td>\n",
              "    </tr>\n",
              "    <tr>\n",
              "      <th>7</th>\n",
              "      <td>2022-01-01 06:21:14</td>\n",
              "      <td>6</td>\n",
              "      <td>0</td>\n",
              "      <td>0</td>\n",
              "      <td>751242</td>\n",
              "      <td>83957554</td>\n",
              "    </tr>\n",
              "    <tr>\n",
              "      <th>26</th>\n",
              "      <td>2022-01-01 19:51:35</td>\n",
              "      <td>4</td>\n",
              "      <td>0</td>\n",
              "      <td>0</td>\n",
              "      <td>307676</td>\n",
              "      <td>43056019</td>\n",
              "    </tr>\n",
              "    <tr>\n",
              "      <th>49</th>\n",
              "      <td>2022-01-01 21:58:31</td>\n",
              "      <td>5</td>\n",
              "      <td>0</td>\n",
              "      <td>0</td>\n",
              "      <td>741562</td>\n",
              "      <td>51847053</td>\n",
              "    </tr>\n",
              "    <tr>\n",
              "      <th>54</th>\n",
              "      <td>2022-01-01 16:07:42</td>\n",
              "      <td>5</td>\n",
              "      <td>0</td>\n",
              "      <td>0</td>\n",
              "      <td>806167</td>\n",
              "      <td>49572522</td>\n",
              "    </tr>\n",
              "    <tr>\n",
              "      <th>...</th>\n",
              "      <td>...</td>\n",
              "      <td>...</td>\n",
              "      <td>...</td>\n",
              "      <td>...</td>\n",
              "      <td>...</td>\n",
              "      <td>...</td>\n",
              "    </tr>\n",
              "    <tr>\n",
              "      <th>26017</th>\n",
              "      <td>2022-01-01 10:44:21</td>\n",
              "      <td>4</td>\n",
              "      <td>0</td>\n",
              "      <td>0</td>\n",
              "      <td>107130</td>\n",
              "      <td>10564056</td>\n",
              "    </tr>\n",
              "    <tr>\n",
              "      <th>26035</th>\n",
              "      <td>2022-01-01 08:39:20</td>\n",
              "      <td>5</td>\n",
              "      <td>0</td>\n",
              "      <td>0</td>\n",
              "      <td>892785</td>\n",
              "      <td>78217751</td>\n",
              "    </tr>\n",
              "    <tr>\n",
              "      <th>26040</th>\n",
              "      <td>2022-01-01 02:29:59</td>\n",
              "      <td>4</td>\n",
              "      <td>0</td>\n",
              "      <td>0</td>\n",
              "      <td>776175</td>\n",
              "      <td>23958667</td>\n",
              "    </tr>\n",
              "    <tr>\n",
              "      <th>26042</th>\n",
              "      <td>2022-01-01 02:51:01</td>\n",
              "      <td>5</td>\n",
              "      <td>0</td>\n",
              "      <td>0</td>\n",
              "      <td>904144</td>\n",
              "      <td>17789596</td>\n",
              "    </tr>\n",
              "    <tr>\n",
              "      <th>26046</th>\n",
              "      <td>2022-01-01 05:19:26</td>\n",
              "      <td>6</td>\n",
              "      <td>0</td>\n",
              "      <td>0</td>\n",
              "      <td>929908</td>\n",
              "      <td>85220345</td>\n",
              "    </tr>\n",
              "  </tbody>\n",
              "</table>\n",
              "<p>2754 rows × 6 columns</p>\n",
              "</div>"
            ],
            "text/plain": [
              "                      date  cutlery  tips  order_price     uid  order_id\n",
              "6      2022-01-01 08:52:23        4     0            0  779134  15841612\n",
              "7      2022-01-01 06:21:14        6     0            0  751242  83957554\n",
              "26     2022-01-01 19:51:35        4     0            0  307676  43056019\n",
              "49     2022-01-01 21:58:31        5     0            0  741562  51847053\n",
              "54     2022-01-01 16:07:42        5     0            0  806167  49572522\n",
              "...                    ...      ...   ...          ...     ...       ...\n",
              "26017  2022-01-01 10:44:21        4     0            0  107130  10564056\n",
              "26035  2022-01-01 08:39:20        5     0            0  892785  78217751\n",
              "26040  2022-01-01 02:29:59        4     0            0  776175  23958667\n",
              "26042  2022-01-01 02:51:01        5     0            0  904144  17789596\n",
              "26046  2022-01-01 05:19:26        6     0            0  929908  85220345\n",
              "\n",
              "[2754 rows x 6 columns]"
            ]
          },
          "execution_count": 8,
          "metadata": {},
          "output_type": "execute_result"
        }
      ],
      "source": [
        "df.query('order_price == 0')"
      ]
    },
    {
      "cell_type": "markdown",
      "id": "0c4a5f2d-8f7b-423b-bd57-1248adce3ac8",
      "metadata": {
        "id": "0c4a5f2d-8f7b-423b-bd57-1248adce3ac8"
      },
      "source": [
        "В сырых данных `2754` строчки в которых сумма заказа и чаевые равна 0, считаю что такие строчки необходимо удалить, скорее всего это отмененные заказы, либо ошибка записи данных (для понимания что эти записи означают нужна коммуникация с продуктом, только по ТЗ понять что это значит нельзя)"
      ]
    },
    {
      "cell_type": "code",
      "execution_count": null,
      "id": "5153b100-4d3a-47a5-8bbe-e94dc48b8d3b",
      "metadata": {
        "id": "5153b100-4d3a-47a5-8bbe-e94dc48b8d3b"
      },
      "outputs": [],
      "source": [
        "df_clean_1 = df[df['order_price'] > 0]"
      ]
    },
    {
      "cell_type": "code",
      "execution_count": null,
      "id": "cea6bc23-4bc7-4d07-aaa3-20d4f9471fe2",
      "metadata": {
        "id": "cea6bc23-4bc7-4d07-aaa3-20d4f9471fe2",
        "outputId": "3a69adc4-d4cb-4d16-8d74-689049b3fd20"
      },
      "outputs": [
        {
          "data": {
            "text/plain": [
              "0"
            ]
          },
          "execution_count": 10,
          "metadata": {},
          "output_type": "execute_result"
        }
      ],
      "source": [
        "#проверка на полные дубли\n",
        "df_clean_1.duplicated().sum()"
      ]
    },
    {
      "cell_type": "code",
      "execution_count": null,
      "id": "50159604-7648-4e4e-a8ad-4524848d6f94",
      "metadata": {
        "id": "50159604-7648-4e4e-a8ad-4524848d6f94",
        "outputId": "e625f1b7-c1aa-416e-c5e6-a4664a78aa2a"
      },
      "outputs": [
        {
          "data": {
            "text/plain": [
              "16846"
            ]
          },
          "execution_count": 11,
          "metadata": {},
          "output_type": "execute_result"
        }
      ],
      "source": [
        "#проверка на дубли по заказам\n",
        "df_clean_1.order_id.duplicated().sum()"
      ]
    },
    {
      "cell_type": "markdown",
      "id": "adf36a9e-f850-497b-a283-5daca220646a",
      "metadata": {
        "id": "adf36a9e-f850-497b-a283-5daca220646a"
      },
      "source": [
        "По номеру заказов есть дубли"
      ]
    },
    {
      "cell_type": "code",
      "execution_count": null,
      "id": "86b96efc-a26e-4348-be6f-8712cfc3b78f",
      "metadata": {
        "id": "86b96efc-a26e-4348-be6f-8712cfc3b78f"
      },
      "outputs": [],
      "source": [
        "cnt_order_id = pd.DataFrame(df_clean_1.order_id.value_counts()).reset_index()\n",
        "cnt_order_id.columns = ['order_id', 'cnt_order']"
      ]
    },
    {
      "cell_type": "code",
      "execution_count": null,
      "id": "d9309712-346b-4473-a60a-4585076b399b",
      "metadata": {
        "id": "d9309712-346b-4473-a60a-4585076b399b",
        "outputId": "c3c722b4-4193-4f0a-bbd7-c2fc997d3560"
      },
      "outputs": [
        {
          "data": {
            "text/plain": [
              "4    0.273656\n",
              "3    0.189252\n",
              "2    0.156574\n",
              "5    0.140932\n",
              "6    0.137835\n",
              "1    0.101750\n",
              "Name: cnt_order, dtype: float64"
            ]
          },
          "execution_count": 13,
          "metadata": {},
          "output_type": "execute_result"
        }
      ],
      "source": [
        "cnt_order_id.cnt_order.value_counts(ascending=False,normalize=True)"
      ]
    },
    {
      "cell_type": "code",
      "execution_count": null,
      "id": "51d57581-13d7-4445-bceb-132ff9f955c9",
      "metadata": {
        "id": "51d57581-13d7-4445-bceb-132ff9f955c9",
        "outputId": "25d901d3-69d5-47cc-a9ed-16ddd98eeee9"
      },
      "outputs": [
        {
          "data": {
            "text/html": [
              "<div>\n",
              "<style scoped>\n",
              "    .dataframe tbody tr th:only-of-type {\n",
              "        vertical-align: middle;\n",
              "    }\n",
              "\n",
              "    .dataframe tbody tr th {\n",
              "        vertical-align: top;\n",
              "    }\n",
              "\n",
              "    .dataframe thead th {\n",
              "        text-align: right;\n",
              "    }\n",
              "</style>\n",
              "<table border=\"1\" class=\"dataframe\">\n",
              "  <thead>\n",
              "    <tr style=\"text-align: right;\">\n",
              "      <th></th>\n",
              "      <th>order_id</th>\n",
              "      <th>cnt_order</th>\n",
              "    </tr>\n",
              "  </thead>\n",
              "  <tbody>\n",
              "    <tr>\n",
              "      <th>0</th>\n",
              "      <td>22105344</td>\n",
              "      <td>6</td>\n",
              "    </tr>\n",
              "    <tr>\n",
              "      <th>1</th>\n",
              "      <td>95437828</td>\n",
              "      <td>6</td>\n",
              "    </tr>\n",
              "    <tr>\n",
              "      <th>2</th>\n",
              "      <td>73445123</td>\n",
              "      <td>6</td>\n",
              "    </tr>\n",
              "    <tr>\n",
              "      <th>3</th>\n",
              "      <td>67890865</td>\n",
              "      <td>6</td>\n",
              "    </tr>\n",
              "    <tr>\n",
              "      <th>4</th>\n",
              "      <td>68861158</td>\n",
              "      <td>6</td>\n",
              "    </tr>\n",
              "    <tr>\n",
              "      <th>...</th>\n",
              "      <td>...</td>\n",
              "      <td>...</td>\n",
              "    </tr>\n",
              "    <tr>\n",
              "      <th>885</th>\n",
              "      <td>85763280</td>\n",
              "      <td>6</td>\n",
              "    </tr>\n",
              "    <tr>\n",
              "      <th>886</th>\n",
              "      <td>58067062</td>\n",
              "      <td>6</td>\n",
              "    </tr>\n",
              "    <tr>\n",
              "      <th>887</th>\n",
              "      <td>29865790</td>\n",
              "      <td>6</td>\n",
              "    </tr>\n",
              "    <tr>\n",
              "      <th>888</th>\n",
              "      <td>69110984</td>\n",
              "      <td>6</td>\n",
              "    </tr>\n",
              "    <tr>\n",
              "      <th>889</th>\n",
              "      <td>82798094</td>\n",
              "      <td>6</td>\n",
              "    </tr>\n",
              "  </tbody>\n",
              "</table>\n",
              "<p>890 rows × 2 columns</p>\n",
              "</div>"
            ],
            "text/plain": [
              "     order_id  cnt_order\n",
              "0    22105344          6\n",
              "1    95437828          6\n",
              "2    73445123          6\n",
              "3    67890865          6\n",
              "4    68861158          6\n",
              "..        ...        ...\n",
              "885  85763280          6\n",
              "886  58067062          6\n",
              "887  29865790          6\n",
              "888  69110984          6\n",
              "889  82798094          6\n",
              "\n",
              "[890 rows x 2 columns]"
            ]
          },
          "execution_count": 14,
          "metadata": {},
          "output_type": "execute_result"
        }
      ],
      "source": [
        "cnt_order_id.query('cnt_order == 6')"
      ]
    },
    {
      "cell_type": "code",
      "execution_count": null,
      "id": "fe18bbe1-2a9e-4355-9252-4996a3aac1b3",
      "metadata": {
        "id": "fe18bbe1-2a9e-4355-9252-4996a3aac1b3",
        "outputId": "d8dafcee-ae82-49e9-aaf7-e8b5c0464aed"
      },
      "outputs": [
        {
          "data": {
            "text/html": [
              "<div>\n",
              "<style scoped>\n",
              "    .dataframe tbody tr th:only-of-type {\n",
              "        vertical-align: middle;\n",
              "    }\n",
              "\n",
              "    .dataframe tbody tr th {\n",
              "        vertical-align: top;\n",
              "    }\n",
              "\n",
              "    .dataframe thead th {\n",
              "        text-align: right;\n",
              "    }\n",
              "</style>\n",
              "<table border=\"1\" class=\"dataframe\">\n",
              "  <thead>\n",
              "    <tr style=\"text-align: right;\">\n",
              "      <th></th>\n",
              "      <th>date</th>\n",
              "      <th>cutlery</th>\n",
              "      <th>tips</th>\n",
              "      <th>order_price</th>\n",
              "      <th>uid</th>\n",
              "      <th>order_id</th>\n",
              "    </tr>\n",
              "  </thead>\n",
              "  <tbody>\n",
              "    <tr>\n",
              "      <th>8618</th>\n",
              "      <td>2022-01-05 05:57:24</td>\n",
              "      <td>3</td>\n",
              "      <td>70</td>\n",
              "      <td>467</td>\n",
              "      <td>624776</td>\n",
              "      <td>82798094</td>\n",
              "    </tr>\n",
              "    <tr>\n",
              "      <th>2256</th>\n",
              "      <td>2022-01-06 21:10:06</td>\n",
              "      <td>4</td>\n",
              "      <td>110</td>\n",
              "      <td>1001</td>\n",
              "      <td>624776</td>\n",
              "      <td>82798094</td>\n",
              "    </tr>\n",
              "    <tr>\n",
              "      <th>5844</th>\n",
              "      <td>2022-01-11 00:44:05</td>\n",
              "      <td>6</td>\n",
              "      <td>170</td>\n",
              "      <td>743</td>\n",
              "      <td>624776</td>\n",
              "      <td>82798094</td>\n",
              "    </tr>\n",
              "    <tr>\n",
              "      <th>13462</th>\n",
              "      <td>2022-01-17 23:50:51</td>\n",
              "      <td>4</td>\n",
              "      <td>150</td>\n",
              "      <td>733</td>\n",
              "      <td>624776</td>\n",
              "      <td>82798094</td>\n",
              "    </tr>\n",
              "    <tr>\n",
              "      <th>568</th>\n",
              "      <td>2022-01-19 23:32:10</td>\n",
              "      <td>1</td>\n",
              "      <td>40</td>\n",
              "      <td>695</td>\n",
              "      <td>624776</td>\n",
              "      <td>82798094</td>\n",
              "    </tr>\n",
              "    <tr>\n",
              "      <th>6417</th>\n",
              "      <td>2022-01-23 16:17:43</td>\n",
              "      <td>1</td>\n",
              "      <td>30</td>\n",
              "      <td>606</td>\n",
              "      <td>624776</td>\n",
              "      <td>82798094</td>\n",
              "    </tr>\n",
              "  </tbody>\n",
              "</table>\n",
              "</div>"
            ],
            "text/plain": [
              "                      date  cutlery  tips  order_price     uid  order_id\n",
              "8618   2022-01-05 05:57:24        3    70          467  624776  82798094\n",
              "2256   2022-01-06 21:10:06        4   110         1001  624776  82798094\n",
              "5844   2022-01-11 00:44:05        6   170          743  624776  82798094\n",
              "13462  2022-01-17 23:50:51        4   150          733  624776  82798094\n",
              "568    2022-01-19 23:32:10        1    40          695  624776  82798094\n",
              "6417   2022-01-23 16:17:43        1    30          606  624776  82798094"
            ]
          },
          "execution_count": 15,
          "metadata": {},
          "output_type": "execute_result"
        }
      ],
      "source": [
        "df_clean_1.query('order_id == 82798094').sort_values('date')"
      ]
    },
    {
      "cell_type": "markdown",
      "id": "fcfb8948-c302-4e19-ab90-baef3ac955e6",
      "metadata": {
        "id": "fcfb8948-c302-4e19-ab90-baef3ac955e6"
      },
      "source": [
        "1. Из информации в ТЗ сделать окончательный вывод о том что означают дубли по order_id нельзя, данные дублируются по `90%` заказов это очень много\n",
        "2. Характер данных не позволяет сделать вывод о значении дубля и не имеет системного характера, тк по всем колонкам данные отличаются, между первой и последней записью мог пройти месяц\n",
        "3. В условии задания указано `order_id — уникальный номер заказа` исходя из этого принимаю, что только последняя запись заказа является верной и очищаю дубли"
      ]
    },
    {
      "cell_type": "code",
      "execution_count": null,
      "id": "5c04566f-5ef9-4eb7-afda-a6b9fc806d8c",
      "metadata": {
        "id": "5c04566f-5ef9-4eb7-afda-a6b9fc806d8c"
      },
      "outputs": [],
      "source": [
        "df_clean_2 = df_clean_1.sort_values(by = ['order_id','date'], ascending=[False,False]).drop_duplicates(subset = 'order_id',keep='first').reset_index(drop = True)"
      ]
    },
    {
      "cell_type": "code",
      "execution_count": null,
      "id": "51a4ea9d-15d2-45ca-9f0e-46bed114f5eb",
      "metadata": {
        "id": "51a4ea9d-15d2-45ca-9f0e-46bed114f5eb",
        "outputId": "6c570f53-7dfe-4152-8514-78b764890bb9"
      },
      "outputs": [
        {
          "name": "stdout",
          "output_type": "stream",
          "text": [
            "Информация о формате данных:\n",
            "<class 'pandas.core.frame.DataFrame'>\n",
            "RangeIndex: 6457 entries, 0 to 6456\n",
            "Data columns (total 6 columns):\n",
            " #   Column       Non-Null Count  Dtype \n",
            "---  ------       --------------  ----- \n",
            " 0   date         6457 non-null   object\n",
            " 1   cutlery      6457 non-null   int64 \n",
            " 2   tips         6457 non-null   int64 \n",
            " 3   order_price  6457 non-null   int64 \n",
            " 4   uid          6457 non-null   int64 \n",
            " 5   order_id     6457 non-null   int64 \n",
            "dtypes: int64(5), object(1)\n",
            "memory usage: 302.8+ KB\n",
            "None\n",
            "\n",
            "----------------------------------------------------------------------------------------------------\n",
            "\n",
            "Распределение данных\n",
            "           cutlery         tips  order_price            uid      order_id\n",
            "count  6457.000000  6457.000000  6457.000000    6457.000000  6.457000e+03\n",
            "mean      2.868515    58.877188   658.593774  551183.646430  5.483015e+07\n",
            "std       1.300043    40.678035   228.752216  257930.312849  2.584723e+07\n",
            "min       1.000000    10.000000   254.000000  100192.000000  1.000406e+07\n",
            "25%       2.000000    20.000000   474.000000  326491.000000  3.247613e+07\n",
            "50%       3.000000    50.000000   655.000000  549891.000000  5.464879e+07\n",
            "75%       4.000000    90.000000   824.000000  778882.000000  7.711570e+07\n",
            "max       6.000000   170.000000  1939.000000  999966.000000  9.997691e+07\n",
            "\n",
            "----------------------------------------------------------------------------------------------------\n",
            "\n",
            "Основные показатели\n",
            "Для cutlery:\n",
            " 1) Ср. значение = 2.8685147901502246\n",
            " 2) Медианное значение = 3.0\n",
            " 3) Минимальное значение = 1\n",
            " 4) Максимальное значение = 6\n",
            "Для tips:\n",
            " 1) Ср. значение = 58.87718754839709\n",
            " 2) Медианное значение = 50.0\n",
            " 3) Минимальное значение = 10\n",
            " 4) Максимальное значение = 170\n",
            "Для order_price:\n",
            " 1) Ср. значение = 658.5937741985442\n",
            " 2) Медианное значение = 655.0\n",
            " 3) Минимальное значение = 254\n",
            " 4) Максимальное значение = 1939\n"
          ]
        }
      ],
      "source": [
        "main_mesure(df_clean_2)"
      ]
    },
    {
      "cell_type": "code",
      "execution_count": null,
      "id": "4af29fd5-21e9-43ec-bf06-2c1bd70e6b91",
      "metadata": {
        "id": "4af29fd5-21e9-43ec-bf06-2c1bd70e6b91"
      },
      "outputs": [],
      "source": [
        "#сделаем колонку для категоризации данных по группам столовых приборов и обрежем даты для фильтра\n",
        "df_clean_2['category'] = ['>2' if x > 2  else '<2' for x in df_clean_2['cutlery'] ]\n",
        "df_clean_2['dt'] = pd.to_datetime(df_clean_2[\"date\"]).dt.date"
      ]
    },
    {
      "cell_type": "markdown",
      "id": "e9682e4a-ff4f-4f07-b3c4-87d6af77599c",
      "metadata": {
        "id": "e9682e4a-ff4f-4f07-b3c4-87d6af77599c"
      },
      "source": [
        "Построим распределения"
      ]
    },
    {
      "cell_type": "code",
      "execution_count": null,
      "id": "268a1fba-b168-4325-9283-c1d1034bfe4e",
      "metadata": {
        "id": "268a1fba-b168-4325-9283-c1d1034bfe4e",
        "outputId": "960fa7d7-0862-4f52-d8ac-844b599a1d5e"
      },
      "outputs": [
        {
          "data": {
            "image/png": "[encoded data removed]",
            "text/plain": [
              "<Figure size 720x576 with 1 Axes>"
            ]
          },
          "metadata": {
            "needs_background": "light"
          },
          "output_type": "display_data"
        },
        {
          "name": "stdout",
          "output_type": "stream",
          "text": [
            "\n"
          ]
        },
        {
          "data": {
            "image/png": "[encoded data removed]",
            "text/plain": [
              "<Figure size 720x576 with 1 Axes>"
            ]
          },
          "metadata": {
            "needs_background": "light"
          },
          "output_type": "display_data"
        },
        {
          "name": "stdout",
          "output_type": "stream",
          "text": [
            "\n"
          ]
        },
        {
          "data": {
            "image/png": "[encoded data removed]",
            "text/plain": [
              "<Figure size 720x576 with 1 Axes>"
            ]
          },
          "metadata": {
            "needs_background": "light"
          },
          "output_type": "display_data"
        },
        {
          "name": "stdout",
          "output_type": "stream",
          "text": [
            "\n"
          ]
        }
      ],
      "source": [
        "for i in df_clean_2[colum]:\n",
        "    plt.figure(figsize=(10,8))\n",
        "    plt.title(f'График распределения {i}')\n",
        "    sns.histplot(data = df_clean_2[i],kde=True)\n",
        "    plt.show()\n",
        "    print('')"
      ]
    },
    {
      "cell_type": "code",
      "execution_count": null,
      "id": "43a13e83-e7e4-4124-8e64-3efed81aad6a",
      "metadata": {
        "tags": [],
        "id": "43a13e83-e7e4-4124-8e64-3efed81aad6a",
        "outputId": "985e1b91-e6d6-4acb-b639-303a64ae69d7"
      },
      "outputs": [
        {
          "data": {
            "text/html": [
              "<div>\n",
              "<style scoped>\n",
              "    .dataframe tbody tr th:only-of-type {\n",
              "        vertical-align: middle;\n",
              "    }\n",
              "\n",
              "    .dataframe tbody tr th {\n",
              "        vertical-align: top;\n",
              "    }\n",
              "\n",
              "    .dataframe thead tr th {\n",
              "        text-align: left;\n",
              "    }\n",
              "\n",
              "    .dataframe thead tr:last-of-type th {\n",
              "        text-align: right;\n",
              "    }\n",
              "</style>\n",
              "<table border=\"1\" class=\"dataframe\">\n",
              "  <thead>\n",
              "    <tr>\n",
              "      <th></th>\n",
              "      <th colspan=\"4\" halign=\"left\">tips</th>\n",
              "    </tr>\n",
              "    <tr>\n",
              "      <th></th>\n",
              "      <th>mean</th>\n",
              "      <th>median</th>\n",
              "      <th>sum</th>\n",
              "      <th>count_nonzero</th>\n",
              "    </tr>\n",
              "    <tr>\n",
              "      <th>category</th>\n",
              "      <th></th>\n",
              "      <th></th>\n",
              "      <th></th>\n",
              "      <th></th>\n",
              "    </tr>\n",
              "  </thead>\n",
              "  <tbody>\n",
              "    <tr>\n",
              "      <th>&lt;2</th>\n",
              "      <td>45.496386</td>\n",
              "      <td>40.0</td>\n",
              "      <td>119610</td>\n",
              "      <td>2629</td>\n",
              "    </tr>\n",
              "    <tr>\n",
              "      <th>&gt;2</th>\n",
              "      <td>68.066876</td>\n",
              "      <td>60.0</td>\n",
              "      <td>260560</td>\n",
              "      <td>3828</td>\n",
              "    </tr>\n",
              "  </tbody>\n",
              "</table>\n",
              "</div>"
            ],
            "text/plain": [
              "               tips                             \n",
              "               mean median     sum count_nonzero\n",
              "category                                        \n",
              "<2        45.496386   40.0  119610          2629\n",
              ">2        68.066876   60.0  260560          3828"
            ]
          },
          "execution_count": 22,
          "metadata": {},
          "output_type": "execute_result"
        }
      ],
      "source": [
        "df_clean_2.groupby('category').agg({'tips':[np.mean,np.median,np.sum,np.count_nonzero]})"
      ]
    },
    {
      "cell_type": "code",
      "execution_count": null,
      "id": "114c64f8-1e87-45c0-8c30-23119f894eb6",
      "metadata": {
        "id": "114c64f8-1e87-45c0-8c30-23119f894eb6"
      },
      "outputs": [],
      "source": [
        "df_agg_dt = pd.DataFrame(df_clean_2[['dt','category','tips']].groupby(['dt','category']).agg(mean_tips=('tips', 'mean'), median_tips=('tips', 'median'))).reset_index()"
      ]
    },
    {
      "cell_type": "code",
      "execution_count": null,
      "id": "3e030a06-4af8-4d01-9731-509e7f3569c9",
      "metadata": {
        "id": "3e030a06-4af8-4d01-9731-509e7f3569c9",
        "outputId": "d9aec20f-572c-497d-f1d7-45f9ee6ca7f9"
      },
      "outputs": [
        {
          "data": {
            "image/png": "[encoded data removed]",
            "text/plain": [
              "<Figure size 1440x576 with 1 Axes>"
            ]
          },
          "metadata": {
            "needs_background": "light"
          },
          "output_type": "display_data"
        }
      ],
      "source": [
        "plt.figure(figsize=(20,8))\n",
        "plt.grid()\n",
        "plt.title('Динамика среднего чека по кол-ву столовых приборов')\n",
        "sns.lineplot(data =df_agg_dt, x = 'dt', y = 'mean_tips',hue = 'category',markers=True, dashes=False)\n",
        "plt.show()"
      ]
    },
    {
      "cell_type": "code",
      "execution_count": null,
      "id": "d122ef1a-95a5-4108-9bcb-721a8b44cbb4",
      "metadata": {
        "id": "d122ef1a-95a5-4108-9bcb-721a8b44cbb4",
        "outputId": "26d20019-8a01-493e-aba1-73934b2378fc"
      },
      "outputs": [
        {
          "data": {
            "image/png": "[encoded data removed]",
            "text/plain": [
              "<Figure size 1440x576 with 1 Axes>"
            ]
          },
          "metadata": {
            "needs_background": "light"
          },
          "output_type": "display_data"
        }
      ],
      "source": [
        "plt.figure(figsize=(20,8))\n",
        "plt.grid()\n",
        "plt.title('Динамика медианы чека по кол-ву столовых приборов')\n",
        "sns.lineplot(data =df_agg_dt, x = 'dt', y = 'median_tips',hue = 'category',markers=True, dashes=False)\n",
        "plt.show()"
      ]
    },
    {
      "cell_type": "markdown",
      "id": "22a45f9a-f572-4418-8d47-1432913bb7c9",
      "metadata": {
        "id": "22a45f9a-f572-4418-8d47-1432913bb7c9"
      },
      "source": [
        "После отчистки данных можно сделать вывод о том, что средний размер чаевых больше в заказах где столовых приборов больше 2"
      ]
    },
    {
      "cell_type": "markdown",
      "id": "ef570ecc-13fd-4e82-87aa-fd5ec1476833",
      "metadata": {
        "id": "ef570ecc-13fd-4e82-87aa-fd5ec1476833"
      },
      "source": [
        "Выделим сегмент пользователей:\n",
        "1. Делали заказ не в январские праздники (по производственному календарю - это с 01.01 по 09.01\n",
        "2. Заказывали больше 2 столовых приоборов\n",
        "3. Чек больше 800 рублей"
      ]
    },
    {
      "cell_type": "code",
      "execution_count": null,
      "id": "f31cf65e-b05f-4ecf-b6e2-7345255867d5",
      "metadata": {
        "id": "f31cf65e-b05f-4ecf-b6e2-7345255867d5"
      },
      "outputs": [],
      "source": [
        "users= df_clean_2.query(\"date > '2022-01-10' and cutlery > 2 and order_price > 800\").sort_values(['date'])"
      ]
    },
    {
      "cell_type": "code",
      "execution_count": null,
      "id": "1909668e-1851-4ee4-91ae-2b0fb0e4e861",
      "metadata": {
        "id": "1909668e-1851-4ee4-91ae-2b0fb0e4e861",
        "outputId": "120d0b36-a683-43be-822c-b27fe8d10bde"
      },
      "outputs": [
        {
          "data": {
            "text/plain": [
              "1098"
            ]
          },
          "execution_count": 29,
          "metadata": {},
          "output_type": "execute_result"
        }
      ],
      "source": [
        "len(set(users['uid']))"
      ]
    },
    {
      "cell_type": "markdown",
      "id": "df5dabd8-ddd8-45c9-a2a3-779857bbf875",
      "metadata": {
        "jp-MarkdownHeadingCollapsed": true,
        "tags": [],
        "id": "df5dabd8-ddd8-45c9-a2a3-779857bbf875"
      },
      "source": [
        "## Выводы\n",
        "1. Средний размер чаевых клиентов, которые заказывают больше 2 приборов выше\n",
        "2. Кол-во уникальных пользователей для коммуникации по uid = `1098`"
      ]
    }
  ],
  "metadata": {
    "kernelspec": {
      "display_name": "Python 3 (ipykernel)",
      "language": "python",
      "name": "python3"
    },
    "language_info": {
      "codemirror_mode": {
        "name": "ipython",
        "version": 3
      },
      "file_extension": ".py",
      "mimetype": "text/x-python",
      "name": "python",
      "nbconvert_exporter": "python",
      "pygments_lexer": "ipython3",
      "version": "3.8.12"
    },
    "colab": {
      "name": "Untitled.ipynb",
      "provenance": [],
      "include_colab_link": true
    }
  },
  "nbformat": 4,
  "nbformat_minor": 5
}